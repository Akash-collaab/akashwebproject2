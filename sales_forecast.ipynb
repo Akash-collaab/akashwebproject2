{
  "cells": [
    {
      "cell_type": "markdown",
      "metadata": {
        "id": "view-in-github",
        "colab_type": "text"
      },
      "source": [
        "<a href=\"https://colab.research.google.com/github/Akash-collaab/akashwebproject2/blob/master/sales_forecast.ipynb\" target=\"_parent\"><img src=\"https://colab.research.google.com/assets/colab-badge.svg\" alt=\"Open In Colab\"/></a>"
      ]
    },
    {
      "cell_type": "code",
      "execution_count": 1,
      "metadata": {
        "id": "y8utcA4Vy3lM"
      },
      "outputs": [],
      "source": [
        "import os"
      ]
    },
    {
      "cell_type": "markdown",
      "metadata": {
        "id": "OkCGgBjFleBC"
      },
      "source": [
        "This code essentially performs time series forecasting using a linear regression model on monthly sales data. It involves data preprocessing, model training, prediction, evaluation, and visualization"
      ]
    },
    {
      "cell_type": "markdown",
      "metadata": {
        "id": "HcJScBDdlXKr"
      },
      "source": []
    },
    {
      "cell_type": "markdown",
      "metadata": {
        "id": "8ID8LBtMjLpe"
      },
      "source": [
        "Import necessary libraries"
      ]
    },
    {
      "cell_type": "code",
      "execution_count": 2,
      "metadata": {
        "id": "DRSNjM-jzZFu"
      },
      "outputs": [],
      "source": [
        "import pandas as pd # data cleaning, data preprocessing, data exploration, and basic statistical analysis.\n",
        "import numpy as np # for numerical computing\n",
        "import matplotlib.pyplot as plt #for plotting library\n",
        "from xgboost import XGBRegressor # XGBRegressor is a class provided by the XGBoost library for building regression models. #predictive model by combining multiple weak models\n",
        "from sklearn.ensemble import RandomForestRegressor # is a class provided by the scikit-learn library for building regression models using a technique called Random Forest.\n",
        "from sklearn.linear_model import LinearRegression # class/the relationship between a dependent variable and one or more independent variables.\n",
        "from sklearn.preprocessing import MinMaxScaler # to preprocess your data before feeding it to machine learning algorithms\n",
        "from sklearn.metrics import mean_absolute_error,mean_squared_error,r2_score #average absolute difference between the predicted values and the true values.represents the proportion of the variance in the dependent variable that is predictable from the independent variables.\n",
        "from tensorflow.keras.models import Sequential # class keras api/integrated into TensorFlow/allowsuscreate a linear stack of layers for building neural network models\n",
        "from tensorflow.keras.layers import Dense, LSTM # c/./ used for defining layers in neural network models.\n",
        "from tensorflow.keras.callbacks import EarlyStopping, ModelCheckpoint # callback classes././stops training when a monitored metric has stopped improving&saves the model's weights at certain intervals during training.\n",
        "\n",
        "\n",
        "\n",
        "\n"
      ]
    },
    {
      "cell_type": "markdown",
      "metadata": {
        "id": "PEsMJSejjkXt"
      },
      "source": [
        "Read the data from a CSV file named \"train.csv\" into a DataFrame and display the first 10 rows:"
      ]
    },
    {
      "cell_type": "code",
      "execution_count": 3,
      "metadata": {
        "colab": {
          "base_uri": "https://localhost:8080/",
          "height": 363
        },
        "id": "1-Q2zYaBASe0",
        "outputId": "29607bb5-fb30-44f1-ce5f-fcb6b60cd186"
      },
      "outputs": [
        {
          "output_type": "execute_result",
          "data": {
            "text/plain": [
              "         date  store  item  sales\n",
              "0  2013-01-01      1     1   13.0\n",
              "1  2013-01-02      1     1   11.0\n",
              "2  2013-01-03      1     1   14.0\n",
              "3  2013-01-04      1     1   13.0\n",
              "4  2013-01-05      1     1   10.0\n",
              "5  2013-01-06      1     1   12.0\n",
              "6  2013-01-07      1     1   10.0\n",
              "7  2013-01-08      1     1    9.0\n",
              "8  2013-01-09      1     1   12.0\n",
              "9  2013-01-10      1     1    9.0"
            ],
            "text/html": [
              "\n",
              "  <div id=\"df-38f08bab-3abe-4109-a727-e1d45bcc525c\" class=\"colab-df-container\">\n",
              "    <div>\n",
              "<style scoped>\n",
              "    .dataframe tbody tr th:only-of-type {\n",
              "        vertical-align: middle;\n",
              "    }\n",
              "\n",
              "    .dataframe tbody tr th {\n",
              "        vertical-align: top;\n",
              "    }\n",
              "\n",
              "    .dataframe thead th {\n",
              "        text-align: right;\n",
              "    }\n",
              "</style>\n",
              "<table border=\"1\" class=\"dataframe\">\n",
              "  <thead>\n",
              "    <tr style=\"text-align: right;\">\n",
              "      <th></th>\n",
              "      <th>date</th>\n",
              "      <th>store</th>\n",
              "      <th>item</th>\n",
              "      <th>sales</th>\n",
              "    </tr>\n",
              "  </thead>\n",
              "  <tbody>\n",
              "    <tr>\n",
              "      <th>0</th>\n",
              "      <td>2013-01-01</td>\n",
              "      <td>1</td>\n",
              "      <td>1</td>\n",
              "      <td>13.0</td>\n",
              "    </tr>\n",
              "    <tr>\n",
              "      <th>1</th>\n",
              "      <td>2013-01-02</td>\n",
              "      <td>1</td>\n",
              "      <td>1</td>\n",
              "      <td>11.0</td>\n",
              "    </tr>\n",
              "    <tr>\n",
              "      <th>2</th>\n",
              "      <td>2013-01-03</td>\n",
              "      <td>1</td>\n",
              "      <td>1</td>\n",
              "      <td>14.0</td>\n",
              "    </tr>\n",
              "    <tr>\n",
              "      <th>3</th>\n",
              "      <td>2013-01-04</td>\n",
              "      <td>1</td>\n",
              "      <td>1</td>\n",
              "      <td>13.0</td>\n",
              "    </tr>\n",
              "    <tr>\n",
              "      <th>4</th>\n",
              "      <td>2013-01-05</td>\n",
              "      <td>1</td>\n",
              "      <td>1</td>\n",
              "      <td>10.0</td>\n",
              "    </tr>\n",
              "    <tr>\n",
              "      <th>5</th>\n",
              "      <td>2013-01-06</td>\n",
              "      <td>1</td>\n",
              "      <td>1</td>\n",
              "      <td>12.0</td>\n",
              "    </tr>\n",
              "    <tr>\n",
              "      <th>6</th>\n",
              "      <td>2013-01-07</td>\n",
              "      <td>1</td>\n",
              "      <td>1</td>\n",
              "      <td>10.0</td>\n",
              "    </tr>\n",
              "    <tr>\n",
              "      <th>7</th>\n",
              "      <td>2013-01-08</td>\n",
              "      <td>1</td>\n",
              "      <td>1</td>\n",
              "      <td>9.0</td>\n",
              "    </tr>\n",
              "    <tr>\n",
              "      <th>8</th>\n",
              "      <td>2013-01-09</td>\n",
              "      <td>1</td>\n",
              "      <td>1</td>\n",
              "      <td>12.0</td>\n",
              "    </tr>\n",
              "    <tr>\n",
              "      <th>9</th>\n",
              "      <td>2013-01-10</td>\n",
              "      <td>1</td>\n",
              "      <td>1</td>\n",
              "      <td>9.0</td>\n",
              "    </tr>\n",
              "  </tbody>\n",
              "</table>\n",
              "</div>\n",
              "    <div class=\"colab-df-buttons\">\n",
              "\n",
              "  <div class=\"colab-df-container\">\n",
              "    <button class=\"colab-df-convert\" onclick=\"convertToInteractive('df-38f08bab-3abe-4109-a727-e1d45bcc525c')\"\n",
              "            title=\"Convert this dataframe to an interactive table.\"\n",
              "            style=\"display:none;\">\n",
              "\n",
              "  <svg xmlns=\"http://www.w3.org/2000/svg\" height=\"24px\" viewBox=\"0 -960 960 960\">\n",
              "    <path d=\"M120-120v-720h720v720H120Zm60-500h600v-160H180v160Zm220 220h160v-160H400v160Zm0 220h160v-160H400v160ZM180-400h160v-160H180v160Zm440 0h160v-160H620v160ZM180-180h160v-160H180v160Zm440 0h160v-160H620v160Z\"/>\n",
              "  </svg>\n",
              "    </button>\n",
              "\n",
              "  <style>\n",
              "    .colab-df-container {\n",
              "      display:flex;\n",
              "      gap: 12px;\n",
              "    }\n",
              "\n",
              "    .colab-df-convert {\n",
              "      background-color: #E8F0FE;\n",
              "      border: none;\n",
              "      border-radius: 50%;\n",
              "      cursor: pointer;\n",
              "      display: none;\n",
              "      fill: #1967D2;\n",
              "      height: 32px;\n",
              "      padding: 0 0 0 0;\n",
              "      width: 32px;\n",
              "    }\n",
              "\n",
              "    .colab-df-convert:hover {\n",
              "      background-color: #E2EBFA;\n",
              "      box-shadow: 0px 1px 2px rgba(60, 64, 67, 0.3), 0px 1px 3px 1px rgba(60, 64, 67, 0.15);\n",
              "      fill: #174EA6;\n",
              "    }\n",
              "\n",
              "    .colab-df-buttons div {\n",
              "      margin-bottom: 4px;\n",
              "    }\n",
              "\n",
              "    [theme=dark] .colab-df-convert {\n",
              "      background-color: #3B4455;\n",
              "      fill: #D2E3FC;\n",
              "    }\n",
              "\n",
              "    [theme=dark] .colab-df-convert:hover {\n",
              "      background-color: #434B5C;\n",
              "      box-shadow: 0px 1px 3px 1px rgba(0, 0, 0, 0.15);\n",
              "      filter: drop-shadow(0px 1px 2px rgba(0, 0, 0, 0.3));\n",
              "      fill: #FFFFFF;\n",
              "    }\n",
              "  </style>\n",
              "\n",
              "    <script>\n",
              "      const buttonEl =\n",
              "        document.querySelector('#df-38f08bab-3abe-4109-a727-e1d45bcc525c button.colab-df-convert');\n",
              "      buttonEl.style.display =\n",
              "        google.colab.kernel.accessAllowed ? 'block' : 'none';\n",
              "\n",
              "      async function convertToInteractive(key) {\n",
              "        const element = document.querySelector('#df-38f08bab-3abe-4109-a727-e1d45bcc525c');\n",
              "        const dataTable =\n",
              "          await google.colab.kernel.invokeFunction('convertToInteractive',\n",
              "                                                    [key], {});\n",
              "        if (!dataTable) return;\n",
              "\n",
              "        const docLinkHtml = 'Like what you see? Visit the ' +\n",
              "          '<a target=\"_blank\" href=https://colab.research.google.com/notebooks/data_table.ipynb>data table notebook</a>'\n",
              "          + ' to learn more about interactive tables.';\n",
              "        element.innerHTML = '';\n",
              "        dataTable['output_type'] = 'display_data';\n",
              "        await google.colab.output.renderOutput(dataTable, element);\n",
              "        const docLink = document.createElement('div');\n",
              "        docLink.innerHTML = docLinkHtml;\n",
              "        element.appendChild(docLink);\n",
              "      }\n",
              "    </script>\n",
              "  </div>\n",
              "\n",
              "\n",
              "<div id=\"df-8cca4c10-42f8-41ef-ba2d-e28aa29950b9\">\n",
              "  <button class=\"colab-df-quickchart\" onclick=\"quickchart('df-8cca4c10-42f8-41ef-ba2d-e28aa29950b9')\"\n",
              "            title=\"Suggest charts\"\n",
              "            style=\"display:none;\">\n",
              "\n",
              "<svg xmlns=\"http://www.w3.org/2000/svg\" height=\"24px\"viewBox=\"0 0 24 24\"\n",
              "     width=\"24px\">\n",
              "    <g>\n",
              "        <path d=\"M19 3H5c-1.1 0-2 .9-2 2v14c0 1.1.9 2 2 2h14c1.1 0 2-.9 2-2V5c0-1.1-.9-2-2-2zM9 17H7v-7h2v7zm4 0h-2V7h2v10zm4 0h-2v-4h2v4z\"/>\n",
              "    </g>\n",
              "</svg>\n",
              "  </button>\n",
              "\n",
              "<style>\n",
              "  .colab-df-quickchart {\n",
              "      --bg-color: #E8F0FE;\n",
              "      --fill-color: #1967D2;\n",
              "      --hover-bg-color: #E2EBFA;\n",
              "      --hover-fill-color: #174EA6;\n",
              "      --disabled-fill-color: #AAA;\n",
              "      --disabled-bg-color: #DDD;\n",
              "  }\n",
              "\n",
              "  [theme=dark] .colab-df-quickchart {\n",
              "      --bg-color: #3B4455;\n",
              "      --fill-color: #D2E3FC;\n",
              "      --hover-bg-color: #434B5C;\n",
              "      --hover-fill-color: #FFFFFF;\n",
              "      --disabled-bg-color: #3B4455;\n",
              "      --disabled-fill-color: #666;\n",
              "  }\n",
              "\n",
              "  .colab-df-quickchart {\n",
              "    background-color: var(--bg-color);\n",
              "    border: none;\n",
              "    border-radius: 50%;\n",
              "    cursor: pointer;\n",
              "    display: none;\n",
              "    fill: var(--fill-color);\n",
              "    height: 32px;\n",
              "    padding: 0;\n",
              "    width: 32px;\n",
              "  }\n",
              "\n",
              "  .colab-df-quickchart:hover {\n",
              "    background-color: var(--hover-bg-color);\n",
              "    box-shadow: 0 1px 2px rgba(60, 64, 67, 0.3), 0 1px 3px 1px rgba(60, 64, 67, 0.15);\n",
              "    fill: var(--button-hover-fill-color);\n",
              "  }\n",
              "\n",
              "  .colab-df-quickchart-complete:disabled,\n",
              "  .colab-df-quickchart-complete:disabled:hover {\n",
              "    background-color: var(--disabled-bg-color);\n",
              "    fill: var(--disabled-fill-color);\n",
              "    box-shadow: none;\n",
              "  }\n",
              "\n",
              "  .colab-df-spinner {\n",
              "    border: 2px solid var(--fill-color);\n",
              "    border-color: transparent;\n",
              "    border-bottom-color: var(--fill-color);\n",
              "    animation:\n",
              "      spin 1s steps(1) infinite;\n",
              "  }\n",
              "\n",
              "  @keyframes spin {\n",
              "    0% {\n",
              "      border-color: transparent;\n",
              "      border-bottom-color: var(--fill-color);\n",
              "      border-left-color: var(--fill-color);\n",
              "    }\n",
              "    20% {\n",
              "      border-color: transparent;\n",
              "      border-left-color: var(--fill-color);\n",
              "      border-top-color: var(--fill-color);\n",
              "    }\n",
              "    30% {\n",
              "      border-color: transparent;\n",
              "      border-left-color: var(--fill-color);\n",
              "      border-top-color: var(--fill-color);\n",
              "      border-right-color: var(--fill-color);\n",
              "    }\n",
              "    40% {\n",
              "      border-color: transparent;\n",
              "      border-right-color: var(--fill-color);\n",
              "      border-top-color: var(--fill-color);\n",
              "    }\n",
              "    60% {\n",
              "      border-color: transparent;\n",
              "      border-right-color: var(--fill-color);\n",
              "    }\n",
              "    80% {\n",
              "      border-color: transparent;\n",
              "      border-right-color: var(--fill-color);\n",
              "      border-bottom-color: var(--fill-color);\n",
              "    }\n",
              "    90% {\n",
              "      border-color: transparent;\n",
              "      border-bottom-color: var(--fill-color);\n",
              "    }\n",
              "  }\n",
              "</style>\n",
              "\n",
              "  <script>\n",
              "    async function quickchart(key) {\n",
              "      const quickchartButtonEl =\n",
              "        document.querySelector('#' + key + ' button');\n",
              "      quickchartButtonEl.disabled = true;  // To prevent multiple clicks.\n",
              "      quickchartButtonEl.classList.add('colab-df-spinner');\n",
              "      try {\n",
              "        const charts = await google.colab.kernel.invokeFunction(\n",
              "            'suggestCharts', [key], {});\n",
              "      } catch (error) {\n",
              "        console.error('Error during call to suggestCharts:', error);\n",
              "      }\n",
              "      quickchartButtonEl.classList.remove('colab-df-spinner');\n",
              "      quickchartButtonEl.classList.add('colab-df-quickchart-complete');\n",
              "    }\n",
              "    (() => {\n",
              "      let quickchartButtonEl =\n",
              "        document.querySelector('#df-8cca4c10-42f8-41ef-ba2d-e28aa29950b9 button');\n",
              "      quickchartButtonEl.style.display =\n",
              "        google.colab.kernel.accessAllowed ? 'block' : 'none';\n",
              "    })();\n",
              "  </script>\n",
              "</div>\n",
              "\n",
              "    </div>\n",
              "  </div>\n"
            ],
            "application/vnd.google.colaboratory.intrinsic+json": {
              "type": "dataframe",
              "variable_name": "store_sales"
            }
          },
          "metadata": {},
          "execution_count": 3
        }
      ],
      "source": [
        "store_sales = pd.read_csv(\"train.csv\")\n",
        "store_sales.head(10)"
      ]
    },
    {
      "cell_type": "markdown",
      "metadata": {
        "id": "baBGI9vMjuXB"
      },
      "source": [
        "Display information about the DataFrame to check data types and missing values:"
      ]
    },
    {
      "cell_type": "markdown",
      "metadata": {
        "id": "j_OLfL83jJqO"
      },
      "source": []
    },
    {
      "cell_type": "markdown",
      "metadata": {
        "id": "gMvjQjH7CImY"
      },
      "source": [
        "checking for null values in the dataset"
      ]
    },
    {
      "cell_type": "code",
      "execution_count": 4,
      "metadata": {
        "colab": {
          "base_uri": "https://localhost:8080/"
        },
        "id": "mloP7fMiCPix",
        "outputId": "b51ea8db-f6d5-4b59-9adf-6988696fc989"
      },
      "outputs": [
        {
          "output_type": "stream",
          "name": "stdout",
          "text": [
            "<class 'pandas.core.frame.DataFrame'>\n",
            "RangeIndex: 227618 entries, 0 to 227617\n",
            "Data columns (total 4 columns):\n",
            " #   Column  Non-Null Count   Dtype  \n",
            "---  ------  --------------   -----  \n",
            " 0   date    227618 non-null  object \n",
            " 1   store   227618 non-null  int64  \n",
            " 2   item    227618 non-null  int64  \n",
            " 3   sales   227617 non-null  float64\n",
            "dtypes: float64(1), int64(2), object(1)\n",
            "memory usage: 6.9+ MB\n"
          ]
        }
      ],
      "source": [
        "store_sales.info()"
      ]
    },
    {
      "cell_type": "markdown",
      "metadata": {
        "id": "oem2RvbPCd7t"
      },
      "source": [
        "Since, we will deal with overall sales of the items in all of the stores. We'll need to disregard the columns representing the store id & item id. Dropping store and item column"
      ]
    },
    {
      "cell_type": "code",
      "execution_count": 5,
      "metadata": {
        "id": "eg9EWPlEj-v_",
        "colab": {
          "base_uri": "https://localhost:8080/"
        },
        "outputId": "0c42bf8c-dc57-4d5c-ee06-ae4b4eb31a80"
      },
      "outputs": [
        {
          "output_type": "stream",
          "name": "stdout",
          "text": [
            "<class 'pandas.core.frame.DataFrame'>\n",
            "RangeIndex: 227618 entries, 0 to 227617\n",
            "Data columns (total 2 columns):\n",
            " #   Column  Non-Null Count   Dtype  \n",
            "---  ------  --------------   -----  \n",
            " 0   date    227618 non-null  object \n",
            " 1   sales   227617 non-null  float64\n",
            "dtypes: float64(1), object(1)\n",
            "memory usage: 3.5+ MB\n"
          ]
        }
      ],
      "source": [
        "store_sales = store_sales.drop(['store','item'],axis=1)\n",
        "store_sales.info()"
      ]
    },
    {
      "cell_type": "code",
      "execution_count": 6,
      "metadata": {
        "colab": {
          "base_uri": "https://localhost:8080/"
        },
        "id": "twBqW1kzDXmK",
        "outputId": "1d10ca32-dcf8-4d7d-dfbb-55ae93f49a6e"
      },
      "outputs": [
        {
          "output_type": "stream",
          "name": "stdout",
          "text": [
            "<class 'pandas.core.frame.DataFrame'>\n",
            "RangeIndex: 227618 entries, 0 to 227617\n",
            "Data columns (total 2 columns):\n",
            " #   Column  Non-Null Count   Dtype  \n",
            "---  ------  --------------   -----  \n",
            " 0   date    227618 non-null  object \n",
            " 1   sales   227617 non-null  float64\n",
            "dtypes: float64(1), object(1)\n",
            "memory usage: 3.5+ MB\n"
          ]
        }
      ],
      "source": [
        "store_sales.info()"
      ]
    },
    {
      "cell_type": "markdown",
      "metadata": {
        "id": "ZSiGYQ0KkCHp"
      },
      "source": []
    },
    {
      "cell_type": "markdown",
      "metadata": {
        "id": "BXGTAGhjFVNN"
      },
      "source": [
        "converting date from object datatype to dateTime datatype"
      ]
    },
    {
      "cell_type": "markdown",
      "metadata": {
        "id": "ZBXvdIX7j3T1"
      },
      "source": [
        "Convert the 'date' column to datetime format:\n"
      ]
    },
    {
      "cell_type": "code",
      "execution_count": 7,
      "metadata": {
        "id": "IZV9g0LBFih0"
      },
      "outputs": [],
      "source": [
        "\n",
        "store_sales['date']=pd.to_datetime(store_sales['date'])\n"
      ]
    },
    {
      "cell_type": "markdown",
      "metadata": {
        "id": "Hrn1-vnZj722"
      },
      "source": []
    },
    {
      "cell_type": "code",
      "execution_count": 8,
      "metadata": {
        "colab": {
          "base_uri": "https://localhost:8080/"
        },
        "id": "3fbHY2uLFvHt",
        "outputId": "31523f37-8548-415b-bb2d-643e180076d7"
      },
      "outputs": [
        {
          "output_type": "stream",
          "name": "stdout",
          "text": [
            "<class 'pandas.core.frame.DataFrame'>\n",
            "RangeIndex: 227618 entries, 0 to 227617\n",
            "Data columns (total 2 columns):\n",
            " #   Column  Non-Null Count   Dtype         \n",
            "---  ------  --------------   -----         \n",
            " 0   date    227618 non-null  datetime64[ns]\n",
            " 1   sales   227617 non-null  float64       \n",
            "dtypes: datetime64[ns](1), float64(1)\n",
            "memory usage: 3.5 MB\n"
          ]
        }
      ],
      "source": [
        "store_sales.info()"
      ]
    },
    {
      "cell_type": "markdown",
      "metadata": {
        "id": "VXkyZgv6kYcz"
      },
      "source": [
        "Drop unnecessary columns 'store' and 'item':x"
      ]
    },
    {
      "cell_type": "markdown",
      "metadata": {
        "id": "mKeenEc3J-Vp"
      },
      "source": [
        "\\we want to train the model to predict the sales in the next month, so we are converting the date to a Month period, and then sum the number of itmes in each month"
      ]
    },
    {
      "cell_type": "code",
      "source": [
        " store_sales['date'] = store_sales['date'].dt.to_period(\"M\")\n",
        " monthly_sales = store_sales.groupby('date').sum().reset_index()"
      ],
      "metadata": {
        "id": "1LFODlOR09iy"
      },
      "execution_count": 9,
      "outputs": []
    },
    {
      "cell_type": "markdown",
      "metadata": {
        "id": "FVbaJeXHMXqu"
      },
      "source": [
        "converting the resulting date column to timestamp datatype"
      ]
    },
    {
      "cell_type": "code",
      "source": [
        "monthly_sales['date']=monthly_sales['date'].dt.to_timestamp()\n",
        "monthly_sales.head(10)"
      ],
      "metadata": {
        "colab": {
          "base_uri": "https://localhost:8080/",
          "height": 363
        },
        "id": "Vt8UzA_40OR1",
        "outputId": "1e8fb8f4-9bf2-463e-f9bd-735fa8ed96d1"
      },
      "execution_count": 10,
      "outputs": [
        {
          "output_type": "execute_result",
          "data": {
            "text/plain": [
              "        date     sales\n",
              "0 2013-01-01  114596.0\n",
              "1 2013-02-01  116257.0\n",
              "2 2013-03-01  155972.0\n",
              "3 2013-04-01  172027.0\n",
              "4 2013-05-01  192094.0\n",
              "5 2013-06-01  201325.0\n",
              "6 2013-07-01  215546.0\n",
              "7 2013-08-01  193231.0\n",
              "8 2013-09-01  173583.0\n",
              "9 2013-10-01  166130.0"
            ],
            "text/html": [
              "\n",
              "  <div id=\"df-c6fdf56f-f97f-4841-b31f-d4537acee310\" class=\"colab-df-container\">\n",
              "    <div>\n",
              "<style scoped>\n",
              "    .dataframe tbody tr th:only-of-type {\n",
              "        vertical-align: middle;\n",
              "    }\n",
              "\n",
              "    .dataframe tbody tr th {\n",
              "        vertical-align: top;\n",
              "    }\n",
              "\n",
              "    .dataframe thead th {\n",
              "        text-align: right;\n",
              "    }\n",
              "</style>\n",
              "<table border=\"1\" class=\"dataframe\">\n",
              "  <thead>\n",
              "    <tr style=\"text-align: right;\">\n",
              "      <th></th>\n",
              "      <th>date</th>\n",
              "      <th>sales</th>\n",
              "    </tr>\n",
              "  </thead>\n",
              "  <tbody>\n",
              "    <tr>\n",
              "      <th>0</th>\n",
              "      <td>2013-01-01</td>\n",
              "      <td>114596.0</td>\n",
              "    </tr>\n",
              "    <tr>\n",
              "      <th>1</th>\n",
              "      <td>2013-02-01</td>\n",
              "      <td>116257.0</td>\n",
              "    </tr>\n",
              "    <tr>\n",
              "      <th>2</th>\n",
              "      <td>2013-03-01</td>\n",
              "      <td>155972.0</td>\n",
              "    </tr>\n",
              "    <tr>\n",
              "      <th>3</th>\n",
              "      <td>2013-04-01</td>\n",
              "      <td>172027.0</td>\n",
              "    </tr>\n",
              "    <tr>\n",
              "      <th>4</th>\n",
              "      <td>2013-05-01</td>\n",
              "      <td>192094.0</td>\n",
              "    </tr>\n",
              "    <tr>\n",
              "      <th>5</th>\n",
              "      <td>2013-06-01</td>\n",
              "      <td>201325.0</td>\n",
              "    </tr>\n",
              "    <tr>\n",
              "      <th>6</th>\n",
              "      <td>2013-07-01</td>\n",
              "      <td>215546.0</td>\n",
              "    </tr>\n",
              "    <tr>\n",
              "      <th>7</th>\n",
              "      <td>2013-08-01</td>\n",
              "      <td>193231.0</td>\n",
              "    </tr>\n",
              "    <tr>\n",
              "      <th>8</th>\n",
              "      <td>2013-09-01</td>\n",
              "      <td>173583.0</td>\n",
              "    </tr>\n",
              "    <tr>\n",
              "      <th>9</th>\n",
              "      <td>2013-10-01</td>\n",
              "      <td>166130.0</td>\n",
              "    </tr>\n",
              "  </tbody>\n",
              "</table>\n",
              "</div>\n",
              "    <div class=\"colab-df-buttons\">\n",
              "\n",
              "  <div class=\"colab-df-container\">\n",
              "    <button class=\"colab-df-convert\" onclick=\"convertToInteractive('df-c6fdf56f-f97f-4841-b31f-d4537acee310')\"\n",
              "            title=\"Convert this dataframe to an interactive table.\"\n",
              "            style=\"display:none;\">\n",
              "\n",
              "  <svg xmlns=\"http://www.w3.org/2000/svg\" height=\"24px\" viewBox=\"0 -960 960 960\">\n",
              "    <path d=\"M120-120v-720h720v720H120Zm60-500h600v-160H180v160Zm220 220h160v-160H400v160Zm0 220h160v-160H400v160ZM180-400h160v-160H180v160Zm440 0h160v-160H620v160ZM180-180h160v-160H180v160Zm440 0h160v-160H620v160Z\"/>\n",
              "  </svg>\n",
              "    </button>\n",
              "\n",
              "  <style>\n",
              "    .colab-df-container {\n",
              "      display:flex;\n",
              "      gap: 12px;\n",
              "    }\n",
              "\n",
              "    .colab-df-convert {\n",
              "      background-color: #E8F0FE;\n",
              "      border: none;\n",
              "      border-radius: 50%;\n",
              "      cursor: pointer;\n",
              "      display: none;\n",
              "      fill: #1967D2;\n",
              "      height: 32px;\n",
              "      padding: 0 0 0 0;\n",
              "      width: 32px;\n",
              "    }\n",
              "\n",
              "    .colab-df-convert:hover {\n",
              "      background-color: #E2EBFA;\n",
              "      box-shadow: 0px 1px 2px rgba(60, 64, 67, 0.3), 0px 1px 3px 1px rgba(60, 64, 67, 0.15);\n",
              "      fill: #174EA6;\n",
              "    }\n",
              "\n",
              "    .colab-df-buttons div {\n",
              "      margin-bottom: 4px;\n",
              "    }\n",
              "\n",
              "    [theme=dark] .colab-df-convert {\n",
              "      background-color: #3B4455;\n",
              "      fill: #D2E3FC;\n",
              "    }\n",
              "\n",
              "    [theme=dark] .colab-df-convert:hover {\n",
              "      background-color: #434B5C;\n",
              "      box-shadow: 0px 1px 3px 1px rgba(0, 0, 0, 0.15);\n",
              "      filter: drop-shadow(0px 1px 2px rgba(0, 0, 0, 0.3));\n",
              "      fill: #FFFFFF;\n",
              "    }\n",
              "  </style>\n",
              "\n",
              "    <script>\n",
              "      const buttonEl =\n",
              "        document.querySelector('#df-c6fdf56f-f97f-4841-b31f-d4537acee310 button.colab-df-convert');\n",
              "      buttonEl.style.display =\n",
              "        google.colab.kernel.accessAllowed ? 'block' : 'none';\n",
              "\n",
              "      async function convertToInteractive(key) {\n",
              "        const element = document.querySelector('#df-c6fdf56f-f97f-4841-b31f-d4537acee310');\n",
              "        const dataTable =\n",
              "          await google.colab.kernel.invokeFunction('convertToInteractive',\n",
              "                                                    [key], {});\n",
              "        if (!dataTable) return;\n",
              "\n",
              "        const docLinkHtml = 'Like what you see? Visit the ' +\n",
              "          '<a target=\"_blank\" href=https://colab.research.google.com/notebooks/data_table.ipynb>data table notebook</a>'\n",
              "          + ' to learn more about interactive tables.';\n",
              "        element.innerHTML = '';\n",
              "        dataTable['output_type'] = 'display_data';\n",
              "        await google.colab.output.renderOutput(dataTable, element);\n",
              "        const docLink = document.createElement('div');\n",
              "        docLink.innerHTML = docLinkHtml;\n",
              "        element.appendChild(docLink);\n",
              "      }\n",
              "    </script>\n",
              "  </div>\n",
              "\n",
              "\n",
              "<div id=\"df-2dd84087-96a2-46cc-b4eb-781ff9447de4\">\n",
              "  <button class=\"colab-df-quickchart\" onclick=\"quickchart('df-2dd84087-96a2-46cc-b4eb-781ff9447de4')\"\n",
              "            title=\"Suggest charts\"\n",
              "            style=\"display:none;\">\n",
              "\n",
              "<svg xmlns=\"http://www.w3.org/2000/svg\" height=\"24px\"viewBox=\"0 0 24 24\"\n",
              "     width=\"24px\">\n",
              "    <g>\n",
              "        <path d=\"M19 3H5c-1.1 0-2 .9-2 2v14c0 1.1.9 2 2 2h14c1.1 0 2-.9 2-2V5c0-1.1-.9-2-2-2zM9 17H7v-7h2v7zm4 0h-2V7h2v10zm4 0h-2v-4h2v4z\"/>\n",
              "    </g>\n",
              "</svg>\n",
              "  </button>\n",
              "\n",
              "<style>\n",
              "  .colab-df-quickchart {\n",
              "      --bg-color: #E8F0FE;\n",
              "      --fill-color: #1967D2;\n",
              "      --hover-bg-color: #E2EBFA;\n",
              "      --hover-fill-color: #174EA6;\n",
              "      --disabled-fill-color: #AAA;\n",
              "      --disabled-bg-color: #DDD;\n",
              "  }\n",
              "\n",
              "  [theme=dark] .colab-df-quickchart {\n",
              "      --bg-color: #3B4455;\n",
              "      --fill-color: #D2E3FC;\n",
              "      --hover-bg-color: #434B5C;\n",
              "      --hover-fill-color: #FFFFFF;\n",
              "      --disabled-bg-color: #3B4455;\n",
              "      --disabled-fill-color: #666;\n",
              "  }\n",
              "\n",
              "  .colab-df-quickchart {\n",
              "    background-color: var(--bg-color);\n",
              "    border: none;\n",
              "    border-radius: 50%;\n",
              "    cursor: pointer;\n",
              "    display: none;\n",
              "    fill: var(--fill-color);\n",
              "    height: 32px;\n",
              "    padding: 0;\n",
              "    width: 32px;\n",
              "  }\n",
              "\n",
              "  .colab-df-quickchart:hover {\n",
              "    background-color: var(--hover-bg-color);\n",
              "    box-shadow: 0 1px 2px rgba(60, 64, 67, 0.3), 0 1px 3px 1px rgba(60, 64, 67, 0.15);\n",
              "    fill: var(--button-hover-fill-color);\n",
              "  }\n",
              "\n",
              "  .colab-df-quickchart-complete:disabled,\n",
              "  .colab-df-quickchart-complete:disabled:hover {\n",
              "    background-color: var(--disabled-bg-color);\n",
              "    fill: var(--disabled-fill-color);\n",
              "    box-shadow: none;\n",
              "  }\n",
              "\n",
              "  .colab-df-spinner {\n",
              "    border: 2px solid var(--fill-color);\n",
              "    border-color: transparent;\n",
              "    border-bottom-color: var(--fill-color);\n",
              "    animation:\n",
              "      spin 1s steps(1) infinite;\n",
              "  }\n",
              "\n",
              "  @keyframes spin {\n",
              "    0% {\n",
              "      border-color: transparent;\n",
              "      border-bottom-color: var(--fill-color);\n",
              "      border-left-color: var(--fill-color);\n",
              "    }\n",
              "    20% {\n",
              "      border-color: transparent;\n",
              "      border-left-color: var(--fill-color);\n",
              "      border-top-color: var(--fill-color);\n",
              "    }\n",
              "    30% {\n",
              "      border-color: transparent;\n",
              "      border-left-color: var(--fill-color);\n",
              "      border-top-color: var(--fill-color);\n",
              "      border-right-color: var(--fill-color);\n",
              "    }\n",
              "    40% {\n",
              "      border-color: transparent;\n",
              "      border-right-color: var(--fill-color);\n",
              "      border-top-color: var(--fill-color);\n",
              "    }\n",
              "    60% {\n",
              "      border-color: transparent;\n",
              "      border-right-color: var(--fill-color);\n",
              "    }\n",
              "    80% {\n",
              "      border-color: transparent;\n",
              "      border-right-color: var(--fill-color);\n",
              "      border-bottom-color: var(--fill-color);\n",
              "    }\n",
              "    90% {\n",
              "      border-color: transparent;\n",
              "      border-bottom-color: var(--fill-color);\n",
              "    }\n",
              "  }\n",
              "</style>\n",
              "\n",
              "  <script>\n",
              "    async function quickchart(key) {\n",
              "      const quickchartButtonEl =\n",
              "        document.querySelector('#' + key + ' button');\n",
              "      quickchartButtonEl.disabled = true;  // To prevent multiple clicks.\n",
              "      quickchartButtonEl.classList.add('colab-df-spinner');\n",
              "      try {\n",
              "        const charts = await google.colab.kernel.invokeFunction(\n",
              "            'suggestCharts', [key], {});\n",
              "      } catch (error) {\n",
              "        console.error('Error during call to suggestCharts:', error);\n",
              "      }\n",
              "      quickchartButtonEl.classList.remove('colab-df-spinner');\n",
              "      quickchartButtonEl.classList.add('colab-df-quickchart-complete');\n",
              "    }\n",
              "    (() => {\n",
              "      let quickchartButtonEl =\n",
              "        document.querySelector('#df-2dd84087-96a2-46cc-b4eb-781ff9447de4 button');\n",
              "      quickchartButtonEl.style.display =\n",
              "        google.colab.kernel.accessAllowed ? 'block' : 'none';\n",
              "    })();\n",
              "  </script>\n",
              "</div>\n",
              "\n",
              "    </div>\n",
              "  </div>\n"
            ],
            "application/vnd.google.colaboratory.intrinsic+json": {
              "type": "dataframe",
              "variable_name": "monthly_sales",
              "summary": "{\n  \"name\": \"monthly_sales\",\n  \"rows\": 60,\n  \"fields\": [\n    {\n      \"column\": \"date\",\n      \"properties\": {\n        \"dtype\": \"date\",\n        \"min\": \"2013-01-01 00:00:00\",\n        \"max\": \"2017-12-01 00:00:00\",\n        \"num_unique_values\": 60,\n        \"samples\": [\n          \"2013-01-01 00:00:00\",\n          \"2013-06-01 00:00:00\",\n          \"2016-01-01 00:00:00\"\n        ],\n        \"semantic_type\": \"\",\n        \"description\": \"\"\n      }\n    },\n    {\n      \"column\": \"sales\",\n      \"properties\": {\n        \"dtype\": \"number\",\n        \"std\": 43004.19222048521,\n        \"min\": 114596.0,\n        \"max\": 292477.0,\n        \"num_unique_values\": 60,\n        \"samples\": [\n          114596.0,\n          201325.0,\n          151710.0\n        ],\n        \"semantic_type\": \"\",\n        \"description\": \"\"\n      }\n    }\n  ]\n}"
            }
          },
          "metadata": {},
          "execution_count": 10
        }
      ]
    },
    {
      "cell_type": "markdown",
      "metadata": {
        "id": "XlpeA9FFkcsE"
      },
      "source": [
        "Plot monthly sales data:\n"
      ]
    },
    {
      "cell_type": "code",
      "execution_count": 11,
      "metadata": {
        "colab": {
          "base_uri": "https://localhost:8080/",
          "height": 487
        },
        "id": "2eF4gIkgNTg0",
        "outputId": "13348ca4-1a6a-47c2-e026-687c84b15511"
      },
      "outputs": [
        {
          "output_type": "display_data",
          "data": {
            "text/plain": [
              "<Figure size 1500x500 with 1 Axes>"
            ],
            "image/png": "[encoded data removed]"
          },
          "metadata": {}
        }
      ],
      "source": [
        "plt.figure(figsize=(15,5))\n",
        "plt.plot(monthly_sales['date'], monthly_sales['sales'])\n",
        "plt.xlabel(\"Date\")\n",
        "plt.ylabel(\"Sales\")\n",
        "plt.title(\"Montly Customer Sales\")\n",
        "plt.show()"
      ]
    },
    {
      "cell_type": "markdown",
      "metadata": {
        "id": "HwK-Y3StkiPp"
      },
      "source": [
        "Calculate monthly sales difference and plot the difference:"
      ]
    },
    {
      "cell_type": "markdown",
      "metadata": {
        "id": "qoFqHYNuPkdy"
      },
      "source": [
        "calls the difference on the sales columns to make the sales data stationery"
      ]
    },
    {
      "cell_type": "code",
      "execution_count": 12,
      "metadata": {
        "id": "xhmxdccQPxFY",
        "colab": {
          "base_uri": "https://localhost:8080/",
          "height": 363
        },
        "outputId": "d65c9861-00c2-4fac-be08-aa3f0db17043"
      },
      "outputs": [
        {
          "output_type": "execute_result",
          "data": {
            "text/plain": [
              "         date     sales  sales_diff\n",
              "1  2013-02-01  116257.0      1661.0\n",
              "2  2013-03-01  155972.0     39715.0\n",
              "3  2013-04-01  172027.0     16055.0\n",
              "4  2013-05-01  192094.0     20067.0\n",
              "5  2013-06-01  201325.0      9231.0\n",
              "6  2013-07-01  215546.0     14221.0\n",
              "7  2013-08-01  193231.0    -22315.0\n",
              "8  2013-09-01  173583.0    -19648.0\n",
              "9  2013-10-01  166130.0     -7453.0\n",
              "10 2013-11-01  175052.0      8922.0"
            ],
            "text/html": [
              "\n",
              "  <div id=\"df-540eb6a0-d4a1-4bff-96eb-a6b3f8eeb82d\" class=\"colab-df-container\">\n",
              "    <div>\n",
              "<style scoped>\n",
              "    .dataframe tbody tr th:only-of-type {\n",
              "        vertical-align: middle;\n",
              "    }\n",
              "\n",
              "    .dataframe tbody tr th {\n",
              "        vertical-align: top;\n",
              "    }\n",
              "\n",
              "    .dataframe thead th {\n",
              "        text-align: right;\n",
              "    }\n",
              "</style>\n",
              "<table border=\"1\" class=\"dataframe\">\n",
              "  <thead>\n",
              "    <tr style=\"text-align: right;\">\n",
              "      <th></th>\n",
              "      <th>date</th>\n",
              "      <th>sales</th>\n",
              "      <th>sales_diff</th>\n",
              "    </tr>\n",
              "  </thead>\n",
              "  <tbody>\n",
              "    <tr>\n",
              "      <th>1</th>\n",
              "      <td>2013-02-01</td>\n",
              "      <td>116257.0</td>\n",
              "      <td>1661.0</td>\n",
              "    </tr>\n",
              "    <tr>\n",
              "      <th>2</th>\n",
              "      <td>2013-03-01</td>\n",
              "      <td>155972.0</td>\n",
              "      <td>39715.0</td>\n",
              "    </tr>\n",
              "    <tr>\n",
              "      <th>3</th>\n",
              "      <td>2013-04-01</td>\n",
              "      <td>172027.0</td>\n",
              "      <td>16055.0</td>\n",
              "    </tr>\n",
              "    <tr>\n",
              "      <th>4</th>\n",
              "      <td>2013-05-01</td>\n",
              "      <td>192094.0</td>\n",
              "      <td>20067.0</td>\n",
              "    </tr>\n",
              "    <tr>\n",
              "      <th>5</th>\n",
              "      <td>2013-06-01</td>\n",
              "      <td>201325.0</td>\n",
              "      <td>9231.0</td>\n",
              "    </tr>\n",
              "    <tr>\n",
              "      <th>6</th>\n",
              "      <td>2013-07-01</td>\n",
              "      <td>215546.0</td>\n",
              "      <td>14221.0</td>\n",
              "    </tr>\n",
              "    <tr>\n",
              "      <th>7</th>\n",
              "      <td>2013-08-01</td>\n",
              "      <td>193231.0</td>\n",
              "      <td>-22315.0</td>\n",
              "    </tr>\n",
              "    <tr>\n",
              "      <th>8</th>\n",
              "      <td>2013-09-01</td>\n",
              "      <td>173583.0</td>\n",
              "      <td>-19648.0</td>\n",
              "    </tr>\n",
              "    <tr>\n",
              "      <th>9</th>\n",
              "      <td>2013-10-01</td>\n",
              "      <td>166130.0</td>\n",
              "      <td>-7453.0</td>\n",
              "    </tr>\n",
              "    <tr>\n",
              "      <th>10</th>\n",
              "      <td>2013-11-01</td>\n",
              "      <td>175052.0</td>\n",
              "      <td>8922.0</td>\n",
              "    </tr>\n",
              "  </tbody>\n",
              "</table>\n",
              "</div>\n",
              "    <div class=\"colab-df-buttons\">\n",
              "\n",
              "  <div class=\"colab-df-container\">\n",
              "    <button class=\"colab-df-convert\" onclick=\"convertToInteractive('df-540eb6a0-d4a1-4bff-96eb-a6b3f8eeb82d')\"\n",
              "            title=\"Convert this dataframe to an interactive table.\"\n",
              "            style=\"display:none;\">\n",
              "\n",
              "  <svg xmlns=\"http://www.w3.org/2000/svg\" height=\"24px\" viewBox=\"0 -960 960 960\">\n",
              "    <path d=\"M120-120v-720h720v720H120Zm60-500h600v-160H180v160Zm220 220h160v-160H400v160Zm0 220h160v-160H400v160ZM180-400h160v-160H180v160Zm440 0h160v-160H620v160ZM180-180h160v-160H180v160Zm440 0h160v-160H620v160Z\"/>\n",
              "  </svg>\n",
              "    </button>\n",
              "\n",
              "  <style>\n",
              "    .colab-df-container {\n",
              "      display:flex;\n",
              "      gap: 12px;\n",
              "    }\n",
              "\n",
              "    .colab-df-convert {\n",
              "      background-color: #E8F0FE;\n",
              "      border: none;\n",
              "      border-radius: 50%;\n",
              "      cursor: pointer;\n",
              "      display: none;\n",
              "      fill: #1967D2;\n",
              "      height: 32px;\n",
              "      padding: 0 0 0 0;\n",
              "      width: 32px;\n",
              "    }\n",
              "\n",
              "    .colab-df-convert:hover {\n",
              "      background-color: #E2EBFA;\n",
              "      box-shadow: 0px 1px 2px rgba(60, 64, 67, 0.3), 0px 1px 3px 1px rgba(60, 64, 67, 0.15);\n",
              "      fill: #174EA6;\n",
              "    }\n",
              "\n",
              "    .colab-df-buttons div {\n",
              "      margin-bottom: 4px;\n",
              "    }\n",
              "\n",
              "    [theme=dark] .colab-df-convert {\n",
              "      background-color: #3B4455;\n",
              "      fill: #D2E3FC;\n",
              "    }\n",
              "\n",
              "    [theme=dark] .colab-df-convert:hover {\n",
              "      background-color: #434B5C;\n",
              "      box-shadow: 0px 1px 3px 1px rgba(0, 0, 0, 0.15);\n",
              "      filter: drop-shadow(0px 1px 2px rgba(0, 0, 0, 0.3));\n",
              "      fill: #FFFFFF;\n",
              "    }\n",
              "  </style>\n",
              "\n",
              "    <script>\n",
              "      const buttonEl =\n",
              "        document.querySelector('#df-540eb6a0-d4a1-4bff-96eb-a6b3f8eeb82d button.colab-df-convert');\n",
              "      buttonEl.style.display =\n",
              "        google.colab.kernel.accessAllowed ? 'block' : 'none';\n",
              "\n",
              "      async function convertToInteractive(key) {\n",
              "        const element = document.querySelector('#df-540eb6a0-d4a1-4bff-96eb-a6b3f8eeb82d');\n",
              "        const dataTable =\n",
              "          await google.colab.kernel.invokeFunction('convertToInteractive',\n",
              "                                                    [key], {});\n",
              "        if (!dataTable) return;\n",
              "\n",
              "        const docLinkHtml = 'Like what you see? Visit the ' +\n",
              "          '<a target=\"_blank\" href=https://colab.research.google.com/notebooks/data_table.ipynb>data table notebook</a>'\n",
              "          + ' to learn more about interactive tables.';\n",
              "        element.innerHTML = '';\n",
              "        dataTable['output_type'] = 'display_data';\n",
              "        await google.colab.output.renderOutput(dataTable, element);\n",
              "        const docLink = document.createElement('div');\n",
              "        docLink.innerHTML = docLinkHtml;\n",
              "        element.appendChild(docLink);\n",
              "      }\n",
              "    </script>\n",
              "  </div>\n",
              "\n",
              "\n",
              "<div id=\"df-5957b5db-368d-416c-a7db-d2bfa5e3e35e\">\n",
              "  <button class=\"colab-df-quickchart\" onclick=\"quickchart('df-5957b5db-368d-416c-a7db-d2bfa5e3e35e')\"\n",
              "            title=\"Suggest charts\"\n",
              "            style=\"display:none;\">\n",
              "\n",
              "<svg xmlns=\"http://www.w3.org/2000/svg\" height=\"24px\"viewBox=\"0 0 24 24\"\n",
              "     width=\"24px\">\n",
              "    <g>\n",
              "        <path d=\"M19 3H5c-1.1 0-2 .9-2 2v14c0 1.1.9 2 2 2h14c1.1 0 2-.9 2-2V5c0-1.1-.9-2-2-2zM9 17H7v-7h2v7zm4 0h-2V7h2v10zm4 0h-2v-4h2v4z\"/>\n",
              "    </g>\n",
              "</svg>\n",
              "  </button>\n",
              "\n",
              "<style>\n",
              "  .colab-df-quickchart {\n",
              "      --bg-color: #E8F0FE;\n",
              "      --fill-color: #1967D2;\n",
              "      --hover-bg-color: #E2EBFA;\n",
              "      --hover-fill-color: #174EA6;\n",
              "      --disabled-fill-color: #AAA;\n",
              "      --disabled-bg-color: #DDD;\n",
              "  }\n",
              "\n",
              "  [theme=dark] .colab-df-quickchart {\n",
              "      --bg-color: #3B4455;\n",
              "      --fill-color: #D2E3FC;\n",
              "      --hover-bg-color: #434B5C;\n",
              "      --hover-fill-color: #FFFFFF;\n",
              "      --disabled-bg-color: #3B4455;\n",
              "      --disabled-fill-color: #666;\n",
              "  }\n",
              "\n",
              "  .colab-df-quickchart {\n",
              "    background-color: var(--bg-color);\n",
              "    border: none;\n",
              "    border-radius: 50%;\n",
              "    cursor: pointer;\n",
              "    display: none;\n",
              "    fill: var(--fill-color);\n",
              "    height: 32px;\n",
              "    padding: 0;\n",
              "    width: 32px;\n",
              "  }\n",
              "\n",
              "  .colab-df-quickchart:hover {\n",
              "    background-color: var(--hover-bg-color);\n",
              "    box-shadow: 0 1px 2px rgba(60, 64, 67, 0.3), 0 1px 3px 1px rgba(60, 64, 67, 0.15);\n",
              "    fill: var(--button-hover-fill-color);\n",
              "  }\n",
              "\n",
              "  .colab-df-quickchart-complete:disabled,\n",
              "  .colab-df-quickchart-complete:disabled:hover {\n",
              "    background-color: var(--disabled-bg-color);\n",
              "    fill: var(--disabled-fill-color);\n",
              "    box-shadow: none;\n",
              "  }\n",
              "\n",
              "  .colab-df-spinner {\n",
              "    border: 2px solid var(--fill-color);\n",
              "    border-color: transparent;\n",
              "    border-bottom-color: var(--fill-color);\n",
              "    animation:\n",
              "      spin 1s steps(1) infinite;\n",
              "  }\n",
              "\n",
              "  @keyframes spin {\n",
              "    0% {\n",
              "      border-color: transparent;\n",
              "      border-bottom-color: var(--fill-color);\n",
              "      border-left-color: var(--fill-color);\n",
              "    }\n",
              "    20% {\n",
              "      border-color: transparent;\n",
              "      border-left-color: var(--fill-color);\n",
              "      border-top-color: var(--fill-color);\n",
              "    }\n",
              "    30% {\n",
              "      border-color: transparent;\n",
              "      border-left-color: var(--fill-color);\n",
              "      border-top-color: var(--fill-color);\n",
              "      border-right-color: var(--fill-color);\n",
              "    }\n",
              "    40% {\n",
              "      border-color: transparent;\n",
              "      border-right-color: var(--fill-color);\n",
              "      border-top-color: var(--fill-color);\n",
              "    }\n",
              "    60% {\n",
              "      border-color: transparent;\n",
              "      border-right-color: var(--fill-color);\n",
              "    }\n",
              "    80% {\n",
              "      border-color: transparent;\n",
              "      border-right-color: var(--fill-color);\n",
              "      border-bottom-color: var(--fill-color);\n",
              "    }\n",
              "    90% {\n",
              "      border-color: transparent;\n",
              "      border-bottom-color: var(--fill-color);\n",
              "    }\n",
              "  }\n",
              "</style>\n",
              "\n",
              "  <script>\n",
              "    async function quickchart(key) {\n",
              "      const quickchartButtonEl =\n",
              "        document.querySelector('#' + key + ' button');\n",
              "      quickchartButtonEl.disabled = true;  // To prevent multiple clicks.\n",
              "      quickchartButtonEl.classList.add('colab-df-spinner');\n",
              "      try {\n",
              "        const charts = await google.colab.kernel.invokeFunction(\n",
              "            'suggestCharts', [key], {});\n",
              "      } catch (error) {\n",
              "        console.error('Error during call to suggestCharts:', error);\n",
              "      }\n",
              "      quickchartButtonEl.classList.remove('colab-df-spinner');\n",
              "      quickchartButtonEl.classList.add('colab-df-quickchart-complete');\n",
              "    }\n",
              "    (() => {\n",
              "      let quickchartButtonEl =\n",
              "        document.querySelector('#df-5957b5db-368d-416c-a7db-d2bfa5e3e35e button');\n",
              "      quickchartButtonEl.style.display =\n",
              "        google.colab.kernel.accessAllowed ? 'block' : 'none';\n",
              "    })();\n",
              "  </script>\n",
              "</div>\n",
              "\n",
              "    </div>\n",
              "  </div>\n"
            ],
            "application/vnd.google.colaboratory.intrinsic+json": {
              "type": "dataframe",
              "variable_name": "monthly_sales",
              "summary": "{\n  \"name\": \"monthly_sales\",\n  \"rows\": 59,\n  \"fields\": [\n    {\n      \"column\": \"date\",\n      \"properties\": {\n        \"dtype\": \"date\",\n        \"min\": \"2013-02-01 00:00:00\",\n        \"max\": \"2017-12-01 00:00:00\",\n        \"num_unique_values\": 59,\n        \"samples\": [\n          \"2013-02-01 00:00:00\",\n          \"2013-07-01 00:00:00\",\n          \"2015-12-01 00:00:00\"\n        ],\n        \"semantic_type\": \"\",\n        \"description\": \"\"\n      }\n    },\n    {\n      \"column\": \"sales\",\n      \"properties\": {\n        \"dtype\": \"number\",\n        \"std\": 41883.21625181312,\n        \"min\": 116257.0,\n        \"max\": 292477.0,\n        \"num_unique_values\": 59,\n        \"samples\": [\n          116257.0,\n          215546.0,\n          153137.0\n        ],\n        \"semantic_type\": \"\",\n        \"description\": \"\"\n      }\n    },\n    {\n      \"column\": \"sales_diff\",\n      \"properties\": {\n        \"dtype\": \"number\",\n        \"std\": 26911.398706564076,\n        \"min\": -57545.0,\n        \"max\": 49734.0,\n        \"num_unique_values\": 59,\n        \"samples\": [\n          1661.0,\n          14221.0,\n          -55587.0\n        ],\n        \"semantic_type\": \"\",\n        \"description\": \"\"\n      }\n    }\n  ]\n}"
            }
          },
          "metadata": {},
          "execution_count": 12
        }
      ],
      "source": [
        "monthly_sales['sales_diff'] = monthly_sales['sales'].diff()\n",
        "monthly_sales =  monthly_sales.dropna()\n",
        "monthly_sales.head(10)"
      ]
    },
    {
      "cell_type": "markdown",
      "metadata": {
        "id": "qES63uzLRGej"
      },
      "source": []
    },
    {
      "cell_type": "code",
      "execution_count": 13,
      "metadata": {
        "id": "bRWdYz8SRIVf",
        "colab": {
          "base_uri": "https://localhost:8080/",
          "height": 487
        },
        "outputId": "660ecf0c-7bda-40ea-98c5-37b683073672"
      },
      "outputs": [
        {
          "output_type": "display_data",
          "data": {
            "text/plain": [
              "<Figure size 1500x500 with 1 Axes>"
            ],
            "image/png": "[encoded data removed]"
          },
          "metadata": {}
        }
      ],
      "source": [
        "plt.figure(figsize=(15,5))\n",
        "plt.plot(monthly_sales['date'], monthly_sales['sales'])\n",
        "plt.xlabel(\"Date\")\n",
        "plt.ylabel(\"Sales\")\n",
        "plt.title(\"Montly Customers Sales Difference \")\n",
        "plt.show()"
      ]
    },
    {
      "cell_type": "markdown",
      "metadata": {
        "id": "96jnRrCfkn6f"
      },
      "source": [
        "Prepare supervised learning data by creating lag features:"
      ]
    },
    {
      "cell_type": "markdown",
      "metadata": {
        "id": "8uVJ4PRlQynX"
      },
      "source": []
    },
    {
      "cell_type": "markdown",
      "metadata": {
        "id": "T_m9OzCwRr46"
      },
      "source": [
        "We need to train our models to predict the sales in the next months, we are doing that by seeing the sales in the previous month. so we need to prepare a supervised data, set to feed into the ML model."
      ]
    },
    {
      "cell_type": "markdown",
      "metadata": {
        "id": "wED1DIL6SXD1"
      },
      "source": [
        "previous 12months data will predict the next 1year sales, why? To train stationary data fo ML model"
      ]
    },
    {
      "cell_type": "markdown",
      "metadata": {
        "id": "bDW5_e7JTOAs"
      },
      "source": [
        "Dropping of sales and date"
      ]
    },
    {
      "cell_type": "code",
      "execution_count": 14,
      "metadata": {
        "id": "6NZ4al1-TOmD"
      },
      "outputs": [],
      "source": [
        "supervised_data = monthly_sales.drop(['date', 'sales'], axis=1)"
      ]
    },
    {
      "cell_type": "markdown",
      "metadata": {
        "id": "xK60GAgvU4Om"
      },
      "source": []
    },
    {
      "cell_type": "markdown",
      "metadata": {
        "id": "DSMRSUsCVHVy"
      },
      "source": [
        "preparing supervised data"
      ]
    },
    {
      "cell_type": "code",
      "execution_count": 15,
      "metadata": {
        "id": "WlhuCrloVK49",
        "colab": {
          "base_uri": "https://localhost:8080/",
          "height": 363
        },
        "outputId": "641130af-e011-43a7-e37e-9d0af592bbb3"
      },
      "outputs": [
        {
          "output_type": "execute_result",
          "data": {
            "text/plain": [
              "   sales_diff  month_1  month_2  month_3  month_4  month_5  month_6  month_7  \\\n",
              "0       608.0   4744.0 -47234.0   8922.0  -7453.0 -19648.0 -22315.0  14221.0   \n",
              "1     44414.0    608.0   4744.0 -47234.0   8922.0  -7453.0 -19648.0 -22315.0   \n",
              "2     21810.0  44414.0    608.0   4744.0 -47234.0   8922.0  -7453.0 -19648.0   \n",
              "3     22793.0  21810.0  44414.0    608.0   4744.0 -47234.0   8922.0  -7453.0   \n",
              "4      6738.0  22793.0  21810.0  44414.0    608.0   4744.0 -47234.0   8922.0   \n",
              "5     20504.0   6738.0  22793.0  21810.0  44414.0    608.0   4744.0 -47234.0   \n",
              "6    -26903.0  20504.0   6738.0  22793.0  21810.0  44414.0    608.0   4744.0   \n",
              "7    -25256.0 -26903.0  20504.0   6738.0  22793.0  21810.0  44414.0    608.0   \n",
              "8     -6263.0 -25256.0 -26903.0  20504.0   6738.0  22793.0  21810.0  44414.0   \n",
              "9     10634.0  -6263.0 -25256.0 -26903.0  20504.0   6738.0  22793.0  21810.0   \n",
              "\n",
              "   month_8  month_9  month_10  month_11  month_12  \n",
              "0   9231.0  20067.0   16055.0   39715.0    1661.0  \n",
              "1  14221.0   9231.0   20067.0   16055.0   39715.0  \n",
              "2 -22315.0  14221.0    9231.0   20067.0   16055.0  \n",
              "3 -19648.0 -22315.0   14221.0    9231.0   20067.0  \n",
              "4  -7453.0 -19648.0  -22315.0   14221.0    9231.0  \n",
              "5   8922.0  -7453.0  -19648.0  -22315.0   14221.0  \n",
              "6 -47234.0   8922.0   -7453.0  -19648.0  -22315.0  \n",
              "7   4744.0 -47234.0    8922.0   -7453.0  -19648.0  \n",
              "8    608.0   4744.0  -47234.0    8922.0   -7453.0  \n",
              "9  44414.0    608.0    4744.0  -47234.0    8922.0  "
            ],
            "text/html": [
              "\n",
              "  <div id=\"df-d06bd18f-c9ea-4e1e-b87f-ae6042f51241\" class=\"colab-df-container\">\n",
              "    <div>\n",
              "<style scoped>\n",
              "    .dataframe tbody tr th:only-of-type {\n",
              "        vertical-align: middle;\n",
              "    }\n",
              "\n",
              "    .dataframe tbody tr th {\n",
              "        vertical-align: top;\n",
              "    }\n",
              "\n",
              "    .dataframe thead th {\n",
              "        text-align: right;\n",
              "    }\n",
              "</style>\n",
              "<table border=\"1\" class=\"dataframe\">\n",
              "  <thead>\n",
              "    <tr style=\"text-align: right;\">\n",
              "      <th></th>\n",
              "      <th>sales_diff</th>\n",
              "      <th>month_1</th>\n",
              "      <th>month_2</th>\n",
              "      <th>month_3</th>\n",
              "      <th>month_4</th>\n",
              "      <th>month_5</th>\n",
              "      <th>month_6</th>\n",
              "      <th>month_7</th>\n",
              "      <th>month_8</th>\n",
              "      <th>month_9</th>\n",
              "      <th>month_10</th>\n",
              "      <th>month_11</th>\n",
              "      <th>month_12</th>\n",
              "    </tr>\n",
              "  </thead>\n",
              "  <tbody>\n",
              "    <tr>\n",
              "      <th>0</th>\n",
              "      <td>608.0</td>\n",
              "      <td>4744.0</td>\n",
              "      <td>-47234.0</td>\n",
              "      <td>8922.0</td>\n",
              "      <td>-7453.0</td>\n",
              "      <td>-19648.0</td>\n",
              "      <td>-22315.0</td>\n",
              "      <td>14221.0</td>\n",
              "      <td>9231.0</td>\n",
              "      <td>20067.0</td>\n",
              "      <td>16055.0</td>\n",
              "      <td>39715.0</td>\n",
              "      <td>1661.0</td>\n",
              "    </tr>\n",
              "    <tr>\n",
              "      <th>1</th>\n",
              "      <td>44414.0</td>\n",
              "      <td>608.0</td>\n",
              "      <td>4744.0</td>\n",
              "      <td>-47234.0</td>\n",
              "      <td>8922.0</td>\n",
              "      <td>-7453.0</td>\n",
              "      <td>-19648.0</td>\n",
              "      <td>-22315.0</td>\n",
              "      <td>14221.0</td>\n",
              "      <td>9231.0</td>\n",
              "      <td>20067.0</td>\n",
              "      <td>16055.0</td>\n",
              "      <td>39715.0</td>\n",
              "    </tr>\n",
              "    <tr>\n",
              "      <th>2</th>\n",
              "      <td>21810.0</td>\n",
              "      <td>44414.0</td>\n",
              "      <td>608.0</td>\n",
              "      <td>4744.0</td>\n",
              "      <td>-47234.0</td>\n",
              "      <td>8922.0</td>\n",
              "      <td>-7453.0</td>\n",
              "      <td>-19648.0</td>\n",
              "      <td>-22315.0</td>\n",
              "      <td>14221.0</td>\n",
              "      <td>9231.0</td>\n",
              "      <td>20067.0</td>\n",
              "      <td>16055.0</td>\n",
              "    </tr>\n",
              "    <tr>\n",
              "      <th>3</th>\n",
              "      <td>22793.0</td>\n",
              "      <td>21810.0</td>\n",
              "      <td>44414.0</td>\n",
              "      <td>608.0</td>\n",
              "      <td>4744.0</td>\n",
              "      <td>-47234.0</td>\n",
              "      <td>8922.0</td>\n",
              "      <td>-7453.0</td>\n",
              "      <td>-19648.0</td>\n",
              "      <td>-22315.0</td>\n",
              "      <td>14221.0</td>\n",
              "      <td>9231.0</td>\n",
              "      <td>20067.0</td>\n",
              "    </tr>\n",
              "    <tr>\n",
              "      <th>4</th>\n",
              "      <td>6738.0</td>\n",
              "      <td>22793.0</td>\n",
              "      <td>21810.0</td>\n",
              "      <td>44414.0</td>\n",
              "      <td>608.0</td>\n",
              "      <td>4744.0</td>\n",
              "      <td>-47234.0</td>\n",
              "      <td>8922.0</td>\n",
              "      <td>-7453.0</td>\n",
              "      <td>-19648.0</td>\n",
              "      <td>-22315.0</td>\n",
              "      <td>14221.0</td>\n",
              "      <td>9231.0</td>\n",
              "    </tr>\n",
              "    <tr>\n",
              "      <th>5</th>\n",
              "      <td>20504.0</td>\n",
              "      <td>6738.0</td>\n",
              "      <td>22793.0</td>\n",
              "      <td>21810.0</td>\n",
              "      <td>44414.0</td>\n",
              "      <td>608.0</td>\n",
              "      <td>4744.0</td>\n",
              "      <td>-47234.0</td>\n",
              "      <td>8922.0</td>\n",
              "      <td>-7453.0</td>\n",
              "      <td>-19648.0</td>\n",
              "      <td>-22315.0</td>\n",
              "      <td>14221.0</td>\n",
              "    </tr>\n",
              "    <tr>\n",
              "      <th>6</th>\n",
              "      <td>-26903.0</td>\n",
              "      <td>20504.0</td>\n",
              "      <td>6738.0</td>\n",
              "      <td>22793.0</td>\n",
              "      <td>21810.0</td>\n",
              "      <td>44414.0</td>\n",
              "      <td>608.0</td>\n",
              "      <td>4744.0</td>\n",
              "      <td>-47234.0</td>\n",
              "      <td>8922.0</td>\n",
              "      <td>-7453.0</td>\n",
              "      <td>-19648.0</td>\n",
              "      <td>-22315.0</td>\n",
              "    </tr>\n",
              "    <tr>\n",
              "      <th>7</th>\n",
              "      <td>-25256.0</td>\n",
              "      <td>-26903.0</td>\n",
              "      <td>20504.0</td>\n",
              "      <td>6738.0</td>\n",
              "      <td>22793.0</td>\n",
              "      <td>21810.0</td>\n",
              "      <td>44414.0</td>\n",
              "      <td>608.0</td>\n",
              "      <td>4744.0</td>\n",
              "      <td>-47234.0</td>\n",
              "      <td>8922.0</td>\n",
              "      <td>-7453.0</td>\n",
              "      <td>-19648.0</td>\n",
              "    </tr>\n",
              "    <tr>\n",
              "      <th>8</th>\n",
              "      <td>-6263.0</td>\n",
              "      <td>-25256.0</td>\n",
              "      <td>-26903.0</td>\n",
              "      <td>20504.0</td>\n",
              "      <td>6738.0</td>\n",
              "      <td>22793.0</td>\n",
              "      <td>21810.0</td>\n",
              "      <td>44414.0</td>\n",
              "      <td>608.0</td>\n",
              "      <td>4744.0</td>\n",
              "      <td>-47234.0</td>\n",
              "      <td>8922.0</td>\n",
              "      <td>-7453.0</td>\n",
              "    </tr>\n",
              "    <tr>\n",
              "      <th>9</th>\n",
              "      <td>10634.0</td>\n",
              "      <td>-6263.0</td>\n",
              "      <td>-25256.0</td>\n",
              "      <td>-26903.0</td>\n",
              "      <td>20504.0</td>\n",
              "      <td>6738.0</td>\n",
              "      <td>22793.0</td>\n",
              "      <td>21810.0</td>\n",
              "      <td>44414.0</td>\n",
              "      <td>608.0</td>\n",
              "      <td>4744.0</td>\n",
              "      <td>-47234.0</td>\n",
              "      <td>8922.0</td>\n",
              "    </tr>\n",
              "  </tbody>\n",
              "</table>\n",
              "</div>\n",
              "    <div class=\"colab-df-buttons\">\n",
              "\n",
              "  <div class=\"colab-df-container\">\n",
              "    <button class=\"colab-df-convert\" onclick=\"convertToInteractive('df-d06bd18f-c9ea-4e1e-b87f-ae6042f51241')\"\n",
              "            title=\"Convert this dataframe to an interactive table.\"\n",
              "            style=\"display:none;\">\n",
              "\n",
              "  <svg xmlns=\"http://www.w3.org/2000/svg\" height=\"24px\" viewBox=\"0 -960 960 960\">\n",
              "    <path d=\"M120-120v-720h720v720H120Zm60-500h600v-160H180v160Zm220 220h160v-160H400v160Zm0 220h160v-160H400v160ZM180-400h160v-160H180v160Zm440 0h160v-160H620v160ZM180-180h160v-160H180v160Zm440 0h160v-160H620v160Z\"/>\n",
              "  </svg>\n",
              "    </button>\n",
              "\n",
              "  <style>\n",
              "    .colab-df-container {\n",
              "      display:flex;\n",
              "      gap: 12px;\n",
              "    }\n",
              "\n",
              "    .colab-df-convert {\n",
              "      background-color: #E8F0FE;\n",
              "      border: none;\n",
              "      border-radius: 50%;\n",
              "      cursor: pointer;\n",
              "      display: none;\n",
              "      fill: #1967D2;\n",
              "      height: 32px;\n",
              "      padding: 0 0 0 0;\n",
              "      width: 32px;\n",
              "    }\n",
              "\n",
              "    .colab-df-convert:hover {\n",
              "      background-color: #E2EBFA;\n",
              "      box-shadow: 0px 1px 2px rgba(60, 64, 67, 0.3), 0px 1px 3px 1px rgba(60, 64, 67, 0.15);\n",
              "      fill: #174EA6;\n",
              "    }\n",
              "\n",
              "    .colab-df-buttons div {\n",
              "      margin-bottom: 4px;\n",
              "    }\n",
              "\n",
              "    [theme=dark] .colab-df-convert {\n",
              "      background-color: #3B4455;\n",
              "      fill: #D2E3FC;\n",
              "    }\n",
              "\n",
              "    [theme=dark] .colab-df-convert:hover {\n",
              "      background-color: #434B5C;\n",
              "      box-shadow: 0px 1px 3px 1px rgba(0, 0, 0, 0.15);\n",
              "      filter: drop-shadow(0px 1px 2px rgba(0, 0, 0, 0.3));\n",
              "      fill: #FFFFFF;\n",
              "    }\n",
              "  </style>\n",
              "\n",
              "    <script>\n",
              "      const buttonEl =\n",
              "        document.querySelector('#df-d06bd18f-c9ea-4e1e-b87f-ae6042f51241 button.colab-df-convert');\n",
              "      buttonEl.style.display =\n",
              "        google.colab.kernel.accessAllowed ? 'block' : 'none';\n",
              "\n",
              "      async function convertToInteractive(key) {\n",
              "        const element = document.querySelector('#df-d06bd18f-c9ea-4e1e-b87f-ae6042f51241');\n",
              "        const dataTable =\n",
              "          await google.colab.kernel.invokeFunction('convertToInteractive',\n",
              "                                                    [key], {});\n",
              "        if (!dataTable) return;\n",
              "\n",
              "        const docLinkHtml = 'Like what you see? Visit the ' +\n",
              "          '<a target=\"_blank\" href=https://colab.research.google.com/notebooks/data_table.ipynb>data table notebook</a>'\n",
              "          + ' to learn more about interactive tables.';\n",
              "        element.innerHTML = '';\n",
              "        dataTable['output_type'] = 'display_data';\n",
              "        await google.colab.output.renderOutput(dataTable, element);\n",
              "        const docLink = document.createElement('div');\n",
              "        docLink.innerHTML = docLinkHtml;\n",
              "        element.appendChild(docLink);\n",
              "      }\n",
              "    </script>\n",
              "  </div>\n",
              "\n",
              "\n",
              "<div id=\"df-c981b6d3-edce-4289-9520-91304df1c124\">\n",
              "  <button class=\"colab-df-quickchart\" onclick=\"quickchart('df-c981b6d3-edce-4289-9520-91304df1c124')\"\n",
              "            title=\"Suggest charts\"\n",
              "            style=\"display:none;\">\n",
              "\n",
              "<svg xmlns=\"http://www.w3.org/2000/svg\" height=\"24px\"viewBox=\"0 0 24 24\"\n",
              "     width=\"24px\">\n",
              "    <g>\n",
              "        <path d=\"M19 3H5c-1.1 0-2 .9-2 2v14c0 1.1.9 2 2 2h14c1.1 0 2-.9 2-2V5c0-1.1-.9-2-2-2zM9 17H7v-7h2v7zm4 0h-2V7h2v10zm4 0h-2v-4h2v4z\"/>\n",
              "    </g>\n",
              "</svg>\n",
              "  </button>\n",
              "\n",
              "<style>\n",
              "  .colab-df-quickchart {\n",
              "      --bg-color: #E8F0FE;\n",
              "      --fill-color: #1967D2;\n",
              "      --hover-bg-color: #E2EBFA;\n",
              "      --hover-fill-color: #174EA6;\n",
              "      --disabled-fill-color: #AAA;\n",
              "      --disabled-bg-color: #DDD;\n",
              "  }\n",
              "\n",
              "  [theme=dark] .colab-df-quickchart {\n",
              "      --bg-color: #3B4455;\n",
              "      --fill-color: #D2E3FC;\n",
              "      --hover-bg-color: #434B5C;\n",
              "      --hover-fill-color: #FFFFFF;\n",
              "      --disabled-bg-color: #3B4455;\n",
              "      --disabled-fill-color: #666;\n",
              "  }\n",
              "\n",
              "  .colab-df-quickchart {\n",
              "    background-color: var(--bg-color);\n",
              "    border: none;\n",
              "    border-radius: 50%;\n",
              "    cursor: pointer;\n",
              "    display: none;\n",
              "    fill: var(--fill-color);\n",
              "    height: 32px;\n",
              "    padding: 0;\n",
              "    width: 32px;\n",
              "  }\n",
              "\n",
              "  .colab-df-quickchart:hover {\n",
              "    background-color: var(--hover-bg-color);\n",
              "    box-shadow: 0 1px 2px rgba(60, 64, 67, 0.3), 0 1px 3px 1px rgba(60, 64, 67, 0.15);\n",
              "    fill: var(--button-hover-fill-color);\n",
              "  }\n",
              "\n",
              "  .colab-df-quickchart-complete:disabled,\n",
              "  .colab-df-quickchart-complete:disabled:hover {\n",
              "    background-color: var(--disabled-bg-color);\n",
              "    fill: var(--disabled-fill-color);\n",
              "    box-shadow: none;\n",
              "  }\n",
              "\n",
              "  .colab-df-spinner {\n",
              "    border: 2px solid var(--fill-color);\n",
              "    border-color: transparent;\n",
              "    border-bottom-color: var(--fill-color);\n",
              "    animation:\n",
              "      spin 1s steps(1) infinite;\n",
              "  }\n",
              "\n",
              "  @keyframes spin {\n",
              "    0% {\n",
              "      border-color: transparent;\n",
              "      border-bottom-color: var(--fill-color);\n",
              "      border-left-color: var(--fill-color);\n",
              "    }\n",
              "    20% {\n",
              "      border-color: transparent;\n",
              "      border-left-color: var(--fill-color);\n",
              "      border-top-color: var(--fill-color);\n",
              "    }\n",
              "    30% {\n",
              "      border-color: transparent;\n",
              "      border-left-color: var(--fill-color);\n",
              "      border-top-color: var(--fill-color);\n",
              "      border-right-color: var(--fill-color);\n",
              "    }\n",
              "    40% {\n",
              "      border-color: transparent;\n",
              "      border-right-color: var(--fill-color);\n",
              "      border-top-color: var(--fill-color);\n",
              "    }\n",
              "    60% {\n",
              "      border-color: transparent;\n",
              "      border-right-color: var(--fill-color);\n",
              "    }\n",
              "    80% {\n",
              "      border-color: transparent;\n",
              "      border-right-color: var(--fill-color);\n",
              "      border-bottom-color: var(--fill-color);\n",
              "    }\n",
              "    90% {\n",
              "      border-color: transparent;\n",
              "      border-bottom-color: var(--fill-color);\n",
              "    }\n",
              "  }\n",
              "</style>\n",
              "\n",
              "  <script>\n",
              "    async function quickchart(key) {\n",
              "      const quickchartButtonEl =\n",
              "        document.querySelector('#' + key + ' button');\n",
              "      quickchartButtonEl.disabled = true;  // To prevent multiple clicks.\n",
              "      quickchartButtonEl.classList.add('colab-df-spinner');\n",
              "      try {\n",
              "        const charts = await google.colab.kernel.invokeFunction(\n",
              "            'suggestCharts', [key], {});\n",
              "      } catch (error) {\n",
              "        console.error('Error during call to suggestCharts:', error);\n",
              "      }\n",
              "      quickchartButtonEl.classList.remove('colab-df-spinner');\n",
              "      quickchartButtonEl.classList.add('colab-df-quickchart-complete');\n",
              "    }\n",
              "    (() => {\n",
              "      let quickchartButtonEl =\n",
              "        document.querySelector('#df-c981b6d3-edce-4289-9520-91304df1c124 button');\n",
              "      quickchartButtonEl.style.display =\n",
              "        google.colab.kernel.accessAllowed ? 'block' : 'none';\n",
              "    })();\n",
              "  </script>\n",
              "</div>\n",
              "\n",
              "    </div>\n",
              "  </div>\n"
            ],
            "application/vnd.google.colaboratory.intrinsic+json": {
              "type": "dataframe",
              "variable_name": "supervised_data",
              "summary": "{\n  \"name\": \"supervised_data\",\n  \"rows\": 47,\n  \"fields\": [\n    {\n      \"column\": \"sales_diff\",\n      \"properties\": {\n        \"dtype\": \"number\",\n        \"std\": 28063.462339706715,\n        \"min\": -57545.0,\n        \"max\": 49734.0,\n        \"num_unique_values\": 47,\n        \"samples\": [\n          20821.0,\n          19757.0,\n          27017.0\n        ],\n        \"semantic_type\": \"\",\n        \"description\": \"\"\n      }\n    },\n    {\n      \"column\": \"month_1\",\n      \"properties\": {\n        \"dtype\": \"number\",\n        \"std\": 26680.698451560256,\n        \"min\": -57096.0,\n        \"max\": 49734.0,\n        \"num_unique_values\": 47,\n        \"samples\": [\n          27017.0,\n          30163.0,\n          43560.0\n        ],\n        \"semantic_type\": \"\",\n        \"description\": \"\"\n      }\n    },\n    {\n      \"column\": \"month_2\",\n      \"properties\": {\n        \"dtype\": \"number\",\n        \"std\": 27609.482002139353,\n        \"min\": -57096.0,\n        \"max\": 49734.0,\n        \"num_unique_values\": 47,\n        \"samples\": [\n          43560.0,\n          49734.0,\n          3752.0\n        ],\n        \"semantic_type\": \"\",\n        \"description\": \"\"\n      }\n    },\n    {\n      \"column\": \"month_3\",\n      \"properties\": {\n        \"dtype\": \"number\",\n        \"std\": 27573.794579634647,\n        \"min\": -57096.0,\n        \"max\": 49734.0,\n        \"num_unique_values\": 47,\n        \"samples\": [\n          3752.0,\n          1294.0,\n          -1427.0\n        ],\n        \"semantic_type\": \"\",\n        \"description\": \"\"\n      }\n    },\n    {\n      \"column\": \"month_4\",\n      \"properties\": {\n        \"dtype\": \"number\",\n        \"std\": 27365.00497062906,\n        \"min\": -57096.0,\n        \"max\": 49734.0,\n        \"num_unique_values\": 47,\n        \"samples\": [\n          -1427.0,\n          -11396.0,\n          -55587.0\n        ],\n        \"semantic_type\": \"\",\n        \"description\": \"\"\n      }\n    },\n    {\n      \"column\": \"month_5\",\n      \"properties\": {\n        \"dtype\": \"number\",\n        \"std\": 26968.66314459544,\n        \"min\": -57096.0,\n        \"max\": 49734.0,\n        \"num_unique_values\": 47,\n        \"samples\": [\n          -55587.0,\n          -57096.0,\n          7562.0\n        ],\n        \"semantic_type\": \"\",\n        \"description\": \"\"\n      }\n    },\n    {\n      \"column\": \"month_6\",\n      \"properties\": {\n        \"dtype\": \"number\",\n        \"std\": 26951.3066600592,\n        \"min\": -57096.0,\n        \"max\": 49734.0,\n        \"num_unique_values\": 47,\n        \"samples\": [\n          7562.0,\n          6395.0,\n          -6839.0\n        ],\n        \"semantic_type\": \"\",\n        \"description\": \"\"\n      }\n    },\n    {\n      \"column\": \"month_7\",\n      \"properties\": {\n        \"dtype\": \"number\",\n        \"std\": 26979.6464570817,\n        \"min\": -57096.0,\n        \"max\": 49734.0,\n        \"num_unique_values\": 47,\n        \"samples\": [\n          -6839.0,\n          -7470.0,\n          -23750.0\n        ],\n        \"semantic_type\": \"\",\n        \"description\": \"\"\n      }\n    },\n    {\n      \"column\": \"month_8\",\n      \"properties\": {\n        \"dtype\": \"number\",\n        \"std\": 26865.192155712703,\n        \"min\": -57096.0,\n        \"max\": 49734.0,\n        \"num_unique_values\": 47,\n        \"samples\": [\n          -23750.0,\n          -21552.0,\n          -29694.0\n        ],\n        \"semantic_type\": \"\",\n        \"description\": \"\"\n      }\n    },\n    {\n      \"column\": \"month_9\",\n      \"properties\": {\n        \"dtype\": \"number\",\n        \"std\": 26665.878500744475,\n        \"min\": -57096.0,\n        \"max\": 49734.0,\n        \"num_unique_values\": 47,\n        \"samples\": [\n          -29694.0,\n          -39881.0,\n          24795.0\n        ],\n        \"semantic_type\": \"\",\n        \"description\": \"\"\n      }\n    },\n    {\n      \"column\": \"month_10\",\n      \"properties\": {\n        \"dtype\": \"number\",\n        \"std\": 25756.62188114019,\n        \"min\": -57096.0,\n        \"max\": 46218.0,\n        \"num_unique_values\": 47,\n        \"samples\": [\n          24795.0,\n          29343.0,\n          2511.0\n        ],\n        \"semantic_type\": \"\",\n        \"description\": \"\"\n      }\n    },\n    {\n      \"column\": \"month_11\",\n      \"properties\": {\n        \"dtype\": \"number\",\n        \"std\": 26400.736332746357,\n        \"min\": -57096.0,\n        \"max\": 46218.0,\n        \"num_unique_values\": 47,\n        \"samples\": [\n          2511.0,\n          8750.0,\n          25919.0\n        ],\n        \"semantic_type\": \"\",\n        \"description\": \"\"\n      }\n    },\n    {\n      \"column\": \"month_12\",\n      \"properties\": {\n        \"dtype\": \"number\",\n        \"std\": 26338.21271294084,\n        \"min\": -57096.0,\n        \"max\": 46218.0,\n        \"num_unique_values\": 47,\n        \"samples\": [\n          25919.0,\n          20821.0,\n          23524.0\n        ],\n        \"semantic_type\": \"\",\n        \"description\": \"\"\n      }\n    }\n  ]\n}"
            }
          },
          "metadata": {},
          "execution_count": 15
        }
      ],
      "source": [
        "for i in range(1,13):\n",
        "  col_name = 'month_'+ str(i)\n",
        "  supervised_data[col_name] = supervised_data['sales_diff'].shift(i)\n",
        "supervised_data =  supervised_data.dropna().reset_index(drop=True)\n",
        "supervised_data.head(10)"
      ]
    },
    {
      "cell_type": "markdown",
      "metadata": {
        "id": "UVvV1xSdkruz"
      },
      "source": [
        "Split the data into train and test sets:"
      ]
    },
    {
      "cell_type": "markdown",
      "metadata": {
        "id": "GTD-BuSBZNqC"
      },
      "source": [
        "spliting the data into train and test data"
      ]
    },
    {
      "cell_type": "code",
      "execution_count": 16,
      "metadata": {
        "id": "mzM_UOZXZS_l",
        "colab": {
          "base_uri": "https://localhost:8080/"
        },
        "outputId": "58a4d381-c5ac-4eae-d10b-73ecf32e84b0"
      },
      "outputs": [
        {
          "output_type": "stream",
          "name": "stdout",
          "text": [
            "Train Data Shape:  (35, 13)\n",
            "Test Data Shape:  (12, 13)\n"
          ]
        }
      ],
      "source": [
        "train_data = supervised_data[:-12]\n",
        "test_data = supervised_data[-12:]\n",
        "print(\"Train Data Shape: \", train_data.shape)\n",
        "print(\"Test Data Shape: \", test_data.shape)"
      ]
    },
    {
      "cell_type": "markdown",
      "metadata": {
        "id": "DrR3uzVVku7a"
      },
      "source": [
        "Scale the data using MinMaxScaler:\n"
      ]
    },
    {
      "cell_type": "code",
      "execution_count": 17,
      "metadata": {
        "id": "XoCtpv-n3u_0"
      },
      "outputs": [],
      "source": [
        "scaler = MinMaxScaler(feature_range=(-1,1))\n",
        "scaler.fit(train_data)\n",
        "train_data = scaler.transform(train_data)\n",
        "test_data = scaler.transform(test_data)"
      ]
    },
    {
      "cell_type": "markdown",
      "metadata": {
        "id": "zQlnWSRdkzRH"
      },
      "source": [
        "Prepare input and output data for training and testing:"
      ]
    },
    {
      "cell_type": "markdown",
      "metadata": {
        "id": "wA4pY68--4YH"
      },
      "source": [
        "first col output and second col rep input"
      ]
    },
    {
      "cell_type": "code",
      "execution_count": 18,
      "metadata": {
        "id": "lNw7290m4KLs",
        "colab": {
          "base_uri": "https://localhost:8080/"
        },
        "outputId": "25d11c86-b799-42b9-f46d-63b1ede4ec87"
      },
      "outputs": [
        {
          "output_type": "stream",
          "name": "stdout",
          "text": [
            "X_train Shap: (35, 12)\n",
            "Y_train Shap: (35, 12)\n",
            "X_test Shap: (12, 12)\n",
            "Y_test Shap: (12, 12)\n"
          ]
        }
      ],
      "source": [
        "x_train, y_train = train_data[:,1:], train_data[:,0:1]\n",
        "x_test, y_test = test_data[:,1:], test_data[:,0:1]\n",
        "y_train = y_train.ravel()\n",
        "y_test = y_test.ravel()\n",
        "print(\"X_train Shap:\", x_train.shape)\n",
        "print(\"Y_train Shap:\", x_train.shape)\n",
        "print(\"X_test Shap:\", x_test.shape)\n",
        "print(\"Y_test Shap:\", x_test.shape)\n",
        "\n"
      ]
    },
    {
      "cell_type": "markdown",
      "metadata": {
        "id": "8i7HA2E3k5lj"
      },
      "source": [
        "Create a DataFrame for predictions:"
      ]
    },
    {
      "cell_type": "markdown",
      "metadata": {
        "id": "nRw0ZMgO_G5x"
      },
      "source": [
        "EVerything till there is data prediction."
      ]
    },
    {
      "cell_type": "markdown",
      "metadata": {
        "id": "6zoqJqox_oXA"
      },
      "source": [
        "Mkae prediction data frame to merge the predicted sales prices of all trained Algorithm."
      ]
    },
    {
      "cell_type": "code",
      "execution_count": 19,
      "metadata": {
        "id": "x-E29XEy_1MN"
      },
      "outputs": [],
      "source": [
        "sales_dates = monthly_sales['date'][-12:].reset_index(drop=True)\n",
        "predict_df = pd.DataFrame(sales_dates)"
      ]
    },
    {
      "cell_type": "code",
      "execution_count": 20,
      "metadata": {
        "id": "q86CwTBzAKXT",
        "colab": {
          "base_uri": "https://localhost:8080/"
        },
        "outputId": "e8def2a5-93bd-467a-9720-15f0aed55880"
      },
      "outputs": [
        {
          "output_type": "stream",
          "name": "stdout",
          "text": [
            "[165349.0, 153953.0, 155247.0, 204981.0, 235144.0, 254901.0, 266091.0, 292477.0, 256249.0, 233154.0, 222120.0, 231851.0, 174306.0]\n"
          ]
        }
      ],
      "source": [
        "act_sales =  monthly_sales['sales'][-13:].to_list()\n",
        "print(act_sales)"
      ]
    },
    {
      "cell_type": "markdown",
      "metadata": {
        "id": "I0F4KUrtk88i"
      },
      "source": [
        "Fit a Linear Regression model and make predictions:\n"
      ]
    },
    {
      "cell_type": "markdown",
      "metadata": {
        "id": "vcVcxgIsAnEz"
      },
      "source": [
        "Linear Regression basically tries to find A Linear relationship with a set of input variables and output variables. So weigth attched to the i/p variable are updated during the training phase, so that the predicted o/p aligns well with the designed o/p. And to train Linear regression we can simply call it using the scikit-package and we will pass the raining data. we use the predict func of linear regression to the predicted o/p."
      ]
    },
    {
      "cell_type": "markdown",
      "metadata": {
        "id": "G9fV3LAlC1Tp"
      },
      "source": [
        "To create the linear regression model, and predicted o/p."
      ]
    },
    {
      "cell_type": "code",
      "execution_count": 21,
      "metadata": {
        "id": "d9nO4fF1C7eY"
      },
      "outputs": [],
      "source": [
        "lr_model= LinearRegression()\n",
        "lr_model.fit(x_train,y_train)\n",
        "lr_pre = lr_model.predict(x_test)"
      ]
    },
    {
      "cell_type": "markdown",
      "metadata": {
        "id": "gKiKiESPlByH"
      },
      "source": [
        "Inverse transform the scaled predictions:"
      ]
    },
    {
      "cell_type": "code",
      "execution_count": 22,
      "metadata": {
        "id": "J9NF1sNeDckt"
      },
      "outputs": [],
      "source": [
        "lr_pre = lr_pre.reshape(-1,1)\n",
        "# THis is a set matrix - contains the input features of the test data, and also the predicted o/p\n",
        "lr_pre_test_set = np.concatenate([lr_pre, x_test], axis=1)\n",
        "lr_pre_test_set = scaler.inverse_transform(lr_pre_test_set)"
      ]
    },
    {
      "cell_type": "markdown",
      "metadata": {
        "id": "VZ6DSbFxlETD"
      },
      "source": [
        "Combine the predictions with actual sales:"
      ]
    },
    {
      "cell_type": "code",
      "execution_count": 23,
      "metadata": {
        "id": "djeZyta9E17b"
      },
      "outputs": [],
      "source": [
        "result_list =[]\n",
        "for index in range(0, len(lr_pre_test_set)):\n",
        "  result_list.append(lr_pre_test_set[index][0]+act_sales[index])\n",
        "lr_pre_series = pd.Series(result_list, name=\"Linear Prediction\")\n",
        "predict_df = predict_df.merge(lr_pre_series, left_index = True, right_index = True)"
      ]
    },
    {
      "cell_type": "markdown",
      "metadata": {
        "id": "pwdXspJ3lJBG"
      },
      "source": [
        "Calculate evaluation metrics for the Linear Regression model:\\\n",
        "Print evaluation metrics:"
      ]
    },
    {
      "cell_type": "code",
      "execution_count": 24,
      "metadata": {
        "id": "RV2Vx9yAHYq3",
        "colab": {
          "base_uri": "https://localhost:8080/"
        },
        "outputId": "5f3c13da-ee73-48b6-c088-cdeeda8c738c"
      },
      "outputs": [
        {
          "output_type": "stream",
          "name": "stdout",
          "text": [
            "Linear Regression MSE:  4388.093318706285\n",
            "Linear Regression MAE:  3328.454649056536\n",
            "Linear Regression R2:  0.9889547698786051\n"
          ]
        }
      ],
      "source": [
        "lr_mse = np.sqrt(mean_squared_error(predict_df['Linear Prediction'], monthly_sales['sales'][-12:])) #MSE measures the average squared difference between the predicted values and the true values\n",
        "lr_mae = mean_absolute_error(predict_df['Linear Prediction'], monthly_sales['sales'][-12:]) #MAE measures the average absolute difference between the predicted values and the true values.\n",
        "lr_r2 = r2_score(predict_df['Linear Prediction'], monthly_sales['sales'][-12:]) #R-squared is a statistical measure that represents the proportion of the variance in the dependent variable that is predictable from the independent variables.\n",
        "print(\"Linear Regression MSE: \", lr_mse)\n",
        "print(\"Linear Regression MAE: \", lr_mae)\n",
        "print(\"Linear Regression R2: \", lr_r2)\n",
        "\n"
      ]
    },
    {
      "cell_type": "markdown",
      "metadata": {
        "id": "kbUj0w1plQ9x"
      },
      "source": [
        "Plot actual vs predicted sales:"
      ]
    },
    {
      "cell_type": "markdown",
      "metadata": {
        "id": "rxhwK4BbHWkS"
      },
      "source": []
    },
    {
      "cell_type": "markdown",
      "metadata": {
        "id": "Go9X1-imJ3Gn"
      },
      "source": [
        "visalization of the prediction against eh actual sales"
      ]
    },
    {
      "cell_type": "code",
      "execution_count": 25,
      "metadata": {
        "id": "IWA0PNxVKGJ9",
        "colab": {
          "base_uri": "https://localhost:8080/",
          "height": 256
        },
        "outputId": "6686f02a-d455-4645-b231-24133c082157"
      },
      "outputs": [
        {
          "output_type": "display_data",
          "data": {
            "text/plain": [
              "<Figure size 1500x200 with 1 Axes>"
            ],
            "image/png": "[encoded data removed]"
          },
          "metadata": {}
        }
      ],
      "source": [
        "plt.figure(figsize=(15,2))\n",
        "# For Actual Sales\n",
        "plt.plot(monthly_sales['date'],monthly_sales['sales'])\n",
        "\n",
        "# The Predicted Sales\n",
        "plt.plot(predict_df['date'], predict_df['Linear Prediction'])\n",
        "plt.title(\"Customer sales Forecast using LR Model\")\n",
        "plt.xlabel(\"Date\")\n",
        "plt.ylabel(\"Sales\")\n",
        "plt.legend(['Actual Sales', 'Predicted sales'])\n",
        "plt.show()"
      ]
    },
    {
      "cell_type": "markdown",
      "metadata": {
        "id": "iX8f0ner_hdk"
      },
      "source": []
    },
    {
      "cell_type": "markdown",
      "metadata": {
        "id": "WcvlhfOm_jHi"
      },
      "source": [
        "\n",
        "\n",
        "1. **pandas**: pandas is a powerful data manipulation and analysis library for Python. It provides data structures like DataFrame and Series, which allow you to easily manipulate and analyze structured data. pandas is widely used for tasks such as data cleaning, data preprocessing, data exploration, and basic statistical analysis.\n",
        "\n",
        "2. **numpy**: numpy is a fundamental package for numerical computing in Python. It provides support for multi-dimensional arrays and matrices, along with a collection of mathematical functions to operate on these arrays efficiently. numpy is extensively used in scientific computing, data analysis, and machine learning tasks due to its efficiency and versatility.\n",
        "\n",
        "3. **matplotlib**: matplotlib is a plotting library for Python that enables you to create a wide variety of static, interactive, and animated visualizations. It provides a MATLAB-like interface and supports various types of plots, including line plots, scatter plots, bar plots, histograms, and more. matplotlib is commonly used for data visualization and presentation of analytical results.\n",
        "\n",
        "4. **xgboost**: XGBoost (eXtreme Gradient Boosting) is an efficient and scalable implementation of gradient boosting decision trees. It is a popular machine learning library known for its high performance and accuracy in supervised learning tasks, such as regression and classification. XGBoost is widely used in competitions and real-world applications due to its ability to handle large datasets and produce highly accurate predictions.\n",
        "\n",
        "5. **scikit-learn**: scikit-learn is a versatile machine learning library for Python that provides simple and efficient tools for data mining and data analysis. It includes various algorithms for classification, regression, clustering, dimensionality reduction, and model selection. scikit-learn is widely used for building and evaluating machine learning models, as well as for data preprocessing and model selection.\n",
        "\n",
        "6. **tensorflow.keras**: TensorFlow is an open-source machine learning framework developed by Google. Keras is a high-level neural networks API that runs on top of TensorFlow, providing a user-friendly interface for building and training deep learning models. The `tensorflow.keras` module allows you to build neural networks using Keras within the TensorFlow ecosystem. It supports various types of neural network architectures, including fully connected networks, convolutional neural networks (CNNs), recurrent neural networks (RNNs), and more.\n"
      ]
    }
  ],
  "metadata": {
    "colab": {
      "provenance": [],
      "authorship_tag": "ABX9TyPkU2ktH75dDwbN5WRit1V+",
      "include_colab_link": true
    },
    "kernelspec": {
      "display_name": "Python 3",
      "name": "python3"
    },
    "language_info": {
      "name": "python"
    }
  },
  "nbformat": 4,
  "nbformat_minor": 0
}